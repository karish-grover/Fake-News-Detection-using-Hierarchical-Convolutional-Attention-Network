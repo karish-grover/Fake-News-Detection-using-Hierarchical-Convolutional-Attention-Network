{
 "cells": [
  {
   "cell_type": "markdown",
   "id": "922cf88f",
   "metadata": {},
   "source": [
    "# **Basic Linear Models Baseline**"
   ]
  },
  {
   "cell_type": "code",
   "execution_count": 1,
   "id": "7cfc7ec0",
   "metadata": {},
   "outputs": [],
   "source": [
    "from sklearn import model_selection, preprocessing, linear_model, naive_bayes, metrics, svm"
   ]
  },
  {
   "cell_type": "code",
   "execution_count": 2,
   "id": "c68dcd36",
   "metadata": {},
   "outputs": [],
   "source": [
    "import pickle\n",
    "file= open(\"split.pkl\", 'rb')\n",
    "X_train, X_test, Y_train, Y_test = pickle.load(file)"
   ]
  },
  {
   "cell_type": "code",
   "execution_count": 3,
   "id": "f23a9160",
   "metadata": {},
   "outputs": [],
   "source": [
    "import numpy as np\n",
    "import pandas as pd\n",
    "\n",
    "import matplotlib.pyplot as plt\n",
    "\n",
    "import re #Regular expressions \n",
    "import nltk #Natural Language Toolkit\n",
    "from nltk.corpus import stopwords\n",
    "from nltk.stem.porter import PorterStemmer\n",
    "\n",
    "from sklearn.feature_extraction.text import TfidfVectorizer\n",
    "from sklearn.model_selection import train_test_split\n",
    "from sklearn.linear_model import LogisticRegression\n",
    "from sklearn.metrics import accuracy_score\n",
    "from sklearn.metrics import classification_report\n",
    "from sklearn import metrics\n",
    "import itertools"
   ]
  },
  {
   "cell_type": "code",
   "execution_count": 4,
   "id": "e6fc9a76",
   "metadata": {},
   "outputs": [],
   "source": [
    "import numpy as np"
   ]
  },
  {
   "cell_type": "code",
   "execution_count": 5,
   "id": "0d78592b",
   "metadata": {},
   "outputs": [],
   "source": [
    "vectorizer = TfidfVectorizer()\n",
    "vectorizer.fit(np.concatenate([X_train, X_test]))\n",
    "X_train = vectorizer.transform(X_train)\n",
    "X_test = vectorizer.transform(X_test)"
   ]
  },
  {
   "cell_type": "code",
   "execution_count": 6,
   "id": "25575012",
   "metadata": {},
   "outputs": [
    {
     "data": {
      "text/plain": [
       "LogisticRegression()"
      ]
     },
     "execution_count": 6,
     "metadata": {},
     "output_type": "execute_result"
    }
   ],
   "source": [
    "# Training the model\n",
    "model1 = LogisticRegression()\n",
    "model1.fit(X_train, Y_train)"
   ]
  },
  {
   "cell_type": "code",
   "execution_count": 7,
   "id": "4ad56975",
   "metadata": {},
   "outputs": [],
   "source": [
    "from sklearn.metrics import precision_score, accuracy_score, f1_score, recall_score"
   ]
  },
  {
   "cell_type": "code",
   "execution_count": 8,
   "id": "6a9de0ac",
   "metadata": {},
   "outputs": [
    {
     "name": "stdout",
     "output_type": "stream",
     "text": [
      "ACC 0.9665865384615384\n",
      "PREC 0.9694510739856802\n",
      "REC 0.9643874643874644\n",
      "F1 0.9669126398476554\n"
     ]
    }
   ],
   "source": [
    "X_test_prediction = model1.predict(X_test)\n",
    "print(\"ACC\", accuracy_score(X_test_prediction, Y_test))\n",
    "print(\"PREC\", precision_score(X_test_prediction, Y_test))\n",
    "print(\"REC\", recall_score(X_test_prediction, Y_test))\n",
    "print(\"F1\", f1_score(X_test_prediction, Y_test))"
   ]
  },
  {
   "cell_type": "code",
   "execution_count": 9,
   "id": "602bdad4",
   "metadata": {},
   "outputs": [],
   "source": [
    "from sklearn import model_selection, preprocessing, linear_model, naive_bayes, metrics, svm\n",
    "from sklearn.feature_extraction.text import TfidfVectorizer, CountVectorizer\n",
    "from sklearn import decomposition, ensemble\n",
    "import pandas, numpy, string\n",
    "from sklearn.tree import DecisionTreeClassifier"
   ]
  },
  {
   "cell_type": "code",
   "execution_count": 10,
   "id": "7e51523f",
   "metadata": {},
   "outputs": [],
   "source": [
    "# model1 = svm.SVC()\n",
    "# model1.fit(X_train, Y_train)\n",
    "# X_test_prediction = model1.predict(X_test)\n",
    "# print(\"ACC\", accuracy_score(X_test_prediction, Y_test))\n",
    "# print(\"PREC\", precision_score(X_test_prediction, Y_test))\n",
    "# print(\"REC\", recall_score(X_test_prediction, Y_test))\n",
    "# print(\"F1\", f1_score(X_test_prediction, Y_test))"
   ]
  },
  {
   "cell_type": "code",
   "execution_count": 11,
   "id": "a90f7c1f",
   "metadata": {},
   "outputs": [
    {
     "name": "stdout",
     "output_type": "stream",
     "text": [
      "ACC 0.9420673076923077\n",
      "PREC 0.9136038186157518\n",
      "REC 0.9696048632218845\n",
      "F1 0.9407716883755223\n"
     ]
    }
   ],
   "source": [
    "model1 = ensemble.RandomForestClassifier()\n",
    "model1.fit(X_train, Y_train)\n",
    "X_test_prediction = model1.predict(X_test)\n",
    "print(\"ACC\", accuracy_score(X_test_prediction, Y_test))\n",
    "print(\"PREC\", precision_score(X_test_prediction, Y_test))\n",
    "print(\"REC\", recall_score(X_test_prediction, Y_test))\n",
    "print(\"F1\", f1_score(X_test_prediction, Y_test))"
   ]
  },
  {
   "cell_type": "code",
   "execution_count": 12,
   "id": "2c0b4b40",
   "metadata": {},
   "outputs": [
    {
     "name": "stdout",
     "output_type": "stream",
     "text": [
      "ACC 0.9564903846153846\n",
      "PREC 0.9484486873508353\n",
      "REC 0.9645631067961165\n",
      "F1 0.9564380264741276\n"
     ]
    }
   ],
   "source": [
    "model1 = DecisionTreeClassifier(criterion= 'entropy')\n",
    "model1.fit(X_train, Y_train)\n",
    "X_test_prediction = model1.predict(X_test)\n",
    "print(\"ACC\", accuracy_score(X_test_prediction, Y_test))\n",
    "print(\"PREC\", precision_score(X_test_prediction, Y_test))\n",
    "print(\"REC\", recall_score(X_test_prediction, Y_test))\n",
    "print(\"F1\", f1_score(X_test_prediction, Y_test))"
   ]
  }
 ],
 "metadata": {
  "kernelspec": {
   "display_name": "Python 3",
   "language": "python",
   "name": "python3"
  },
  "language_info": {
   "codemirror_mode": {
    "name": "ipython",
    "version": 3
   },
   "file_extension": ".py",
   "mimetype": "text/x-python",
   "name": "python",
   "nbconvert_exporter": "python",
   "pygments_lexer": "ipython3",
   "version": "3.6.5"
  }
 },
 "nbformat": 4,
 "nbformat_minor": 5
}
